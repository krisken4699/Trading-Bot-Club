{
 "cells": [
  {
   "cell_type": "code",
   "execution_count": 1,
   "metadata": {
    "collapsed": true
   },
   "outputs": [],
   "source": [
    "import random\n",
    "import numpy as np\n",
    "import pandas as pd"
   ]
  },
  {
   "cell_type": "code",
   "execution_count": 2,
   "outputs": [
    {
     "name": "stdout",
     "output_type": "stream",
     "text": [
      "     type Symbol       AX  reason  price       ROI  index\n",
      "0    Exit     SQ  1/22/16  [True]  10.35  0.126224     34\n",
      "1    Exit     SQ  3/22/16  [True]  13.25  0.124788     75\n",
      "2    Exit     SQ  7/26/16  [True]   9.77  0.079558    162\n",
      "3    Exit     SQ  2/24/17  [True]  16.95  0.171389    309\n",
      "4    Exit     SQ  3/29/18  [True]  47.85 -0.098021    584\n",
      "..    ...    ...      ...     ...    ...       ...    ...\n",
      "145  Exit   BBBY  8/23/19  [True]   8.68  0.090452    937\n",
      "146  Exit   CORZ  1/26/22  [True]   8.25  0.238739    202\n",
      "147  Exit   CORZ   5/9/22  [True]   4.97 -0.123457    273\n",
      "148  Exit   CORZ  6/21/22  [True]   2.40  0.126761    302\n",
      "149  Exit   CORZ   7/6/22  [True]   1.69  0.123147    312\n",
      "\n",
      "[150 rows x 7 columns]\n"
     ]
    }
   ],
   "source": [
    "df = pd.read_csv(\"log.csv\")\n",
    "print(df)"
   ],
   "metadata": {
    "collapsed": false
   }
  },
  {
   "cell_type": "code",
   "execution_count": 3,
   "outputs": [
    {
     "name": "stdout",
     "output_type": "stream",
     "text": [
      "<class 'float'>\n"
     ]
    }
   ],
   "source": [
    "roi = list(df['ROI'])\n",
    "\n",
    "print(type(roi[0]))"
   ],
   "metadata": {
    "collapsed": false
   }
  },
  {
   "cell_type": "code",
   "execution_count": 4,
   "outputs": [
    {
     "name": "stdout",
     "output_type": "stream",
     "text": [
      "probability of winning is 0.52\n",
      "probability of losing is 0.48\n",
      "0.10826044544444445 0.12339509416666668\n",
      "mean roi is 0.012200435153333333\n",
      "you should bet 91.32877185646713% of you balance\n"
     ]
    }
   ],
   "source": [
    "pos_list = []\n",
    "neg_list = []\n",
    "for ints in roi:\n",
    "    if ints < 0:\n",
    "        neg_list.append(ints)\n",
    "    elif ints >= 0:\n",
    "        pos_list.append(ints)\n",
    "\n",
    "p_win = len(pos_list)/len(roi)\n",
    "p_loss = 1-p_win\n",
    "neg_mean = abs(np.mean(neg_list))\n",
    "pos_mean = np.mean(pos_list)\n",
    "mean = np.mean(roi)\n",
    "\n",
    "bet_percent = ((p_win/neg_mean)-(p_loss/pos_mean))*100\n",
    "\n",
    "print(f\"probability of winning is {p_win}\")\n",
    "print(f\"probability of losing is {p_loss}\")\n",
    "print(neg_mean, pos_mean)\n",
    "print(f\"mean roi is {mean}\")\n",
    "print(f\"you should bet {bet_percent}% of you balance\")"
   ],
   "metadata": {
    "collapsed": false
   }
  },
  {
   "cell_type": "code",
   "execution_count": null,
   "outputs": [],
   "source": [],
   "metadata": {
    "collapsed": false
   }
  }
 ],
 "metadata": {
  "kernelspec": {
   "display_name": "Python 3",
   "language": "python",
   "name": "python3"
  },
  "language_info": {
   "codemirror_mode": {
    "name": "ipython",
    "version": 2
   },
   "file_extension": ".py",
   "mimetype": "text/x-python",
   "name": "python",
   "nbconvert_exporter": "python",
   "pygments_lexer": "ipython2",
   "version": "2.7.6"
  }
 },
 "nbformat": 4,
 "nbformat_minor": 0
}
