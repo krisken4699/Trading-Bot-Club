{
 "cells": [
  {
   "cell_type": "code",
   "execution_count": 3,
   "metadata": {
    "collapsed": true
   },
   "outputs": [],
   "source": [
    "import random\n",
    "import numpy as np\n",
    "import pandas as pd"
   ]
  },
  {
   "cell_type": "code",
   "execution_count": 24,
   "outputs": [
    {
     "name": "stdout",
     "output_type": "stream",
     "text": [
      "     type Symbol        AX  reason   price       ROI  index\n",
      "0    Exit     SQ   1/20/16  [True]   9.190 -0.101739     32\n",
      "1    Exit     SQ   1/25/16  [True]   9.870  0.126224     35\n",
      "2    Exit     SQ   2/16/16  [True]   9.750  0.154762     50\n",
      "3    Exit     SQ    5/9/16  [True]  10.170 -0.190335    108\n",
      "4    Exit     SQ   2/24/17  [True]  16.950  0.152039    309\n",
      "..    ...    ...       ...     ...     ...       ...    ...\n",
      "290  Exit   CORZ    6/8/22  [True]   2.570 -0.196013    294\n",
      "291  Exit   CORZ   6/22/22  [True]   2.230  0.126761    303\n",
      "292  Exit   CORZ    7/7/22  [True]   1.620  0.123147    313\n",
      "293  Exit   CORZ   10/5/22  [True]   1.600  0.123188    376\n",
      "294  Exit   CORZ  11/15/22  [True]   0.209  0.443956    405\n",
      "\n",
      "[295 rows x 7 columns]\n"
     ]
    }
   ],
   "source": [
    "df = pd.read_csv(\"log.csv\")\n",
    "print(df)"
   ],
   "metadata": {
    "collapsed": false
   }
  },
  {
   "cell_type": "code",
   "execution_count": 25,
   "outputs": [
    {
     "name": "stdout",
     "output_type": "stream",
     "text": [
      "<class 'float'>\n"
     ]
    }
   ],
   "source": [
    "roi = list(df['ROI'])\n",
    "\n",
    "print(type(roi[0]))"
   ],
   "metadata": {
    "collapsed": false
   }
  },
  {
   "cell_type": "code",
   "execution_count": 26,
   "outputs": [
    {
     "name": "stdout",
     "output_type": "stream",
     "text": [
      "probability of winning is 0.5322033898305085\n",
      "probability of losing is 0.4677966101694915\n",
      "mean roi is 0.008800623203389831\n",
      "you should bet -5262.2737954471695% of you balance\n"
     ]
    }
   ],
   "source": [
    "pos_list = []\n",
    "neg_list = []\n",
    "for ints in roi:\n",
    "    if ints < 0:\n",
    "        neg_list.append(ints)\n",
    "    elif ints >= 0:\n",
    "        pos_list.append(ints)\n",
    "\n",
    "p_of_win = len(pos_list)/len(roi)\n",
    "p_of_loss = 1-p_of_win\n",
    "mean = np.mean(roi)\n",
    "\n",
    "bet_percent = ((mean*p_of_win-p_of_loss)/mean)*100\n",
    "\n",
    "print(f\"probability of winning is {p_of_win}\")\n",
    "print(f\"probability of losing is {p_of_loss}\")\n",
    "print(f\"mean roi is {mean}\")\n",
    "print(f\"you should bet {bet_percent}% of you balance\")"
   ],
   "metadata": {
    "collapsed": false
   }
  },
  {
   "cell_type": "code",
   "execution_count": null,
   "outputs": [],
   "source": [],
   "metadata": {
    "collapsed": false
   }
  }
 ],
 "metadata": {
  "kernelspec": {
   "display_name": "Python 3",
   "language": "python",
   "name": "python3"
  },
  "language_info": {
   "codemirror_mode": {
    "name": "ipython",
    "version": 2
   },
   "file_extension": ".py",
   "mimetype": "text/x-python",
   "name": "python",
   "nbconvert_exporter": "python",
   "pygments_lexer": "ipython2",
   "version": "2.7.6"
  }
 },
 "nbformat": 4,
 "nbformat_minor": 0
}
