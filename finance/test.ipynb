{
 "cells": [
  {
   "cell_type": "code",
   "execution_count": 6,
   "metadata": {
    "collapsed": true
   },
   "outputs": [],
   "source": [
    "import random\n",
    "import numpy as np\n",
    "import pandas as pd\n",
    "from scipy.stats import sem"
   ]
  },
  {
   "cell_type": "code",
   "execution_count": 2,
   "outputs": [
    {
     "name": "stdout",
     "output_type": "stream",
     "text": [
      "     type Symbol       AX  reason  price       ROI  index\n",
      "0    Exit     SQ  1/22/16  [True]  10.35  0.090316     34\n",
      "1    Exit     SQ  3/22/16  [True]  13.25  0.137521     75\n",
      "2    Exit     SQ  7/26/16  [True]   9.77  0.088398    162\n",
      "3    Exit     SQ  2/24/17  [True]  16.95  0.185211    309\n",
      "4    Exit     SQ  3/29/18  [True]  47.85 -0.106692    584\n",
      "..    ...    ...      ...     ...    ...       ...    ...\n",
      "144  Exit   BBBY  8/23/19  [True]   8.68  0.097990    937\n",
      "145  Exit   CORZ  1/26/22  [True]   8.25  0.186186    202\n",
      "146  Exit   CORZ   5/9/22  [True]   4.97 -0.088183    273\n",
      "147  Exit   CORZ  6/21/22  [True]   2.40  0.093897    302\n",
      "148  Exit   CORZ   7/6/22  [True]   1.69  0.136439    312\n",
      "\n",
      "[149 rows x 7 columns]\n"
     ]
    }
   ],
   "source": [
    "df = pd.read_csv(\"log.csv\")\n",
    "print(df)"
   ],
   "metadata": {
    "collapsed": false
   }
  },
  {
   "cell_type": "code",
   "execution_count": 3,
   "outputs": [
    {
     "name": "stdout",
     "output_type": "stream",
     "text": [
      "<class 'float'>\n"
     ]
    }
   ],
   "source": [
    "roi = list(df['ROI'])\n",
    "\n",
    "print(type(roi[0]))"
   ],
   "metadata": {
    "collapsed": false
   }
  },
  {
   "cell_type": "code",
   "execution_count": 4,
   "outputs": [
    {
     "name": "stdout",
     "output_type": "stream",
     "text": [
      "probability of winning is 0.5167785234899329\n",
      "probability of losing is 0.4832214765100671\n",
      "mean roi is 0.00789131088590604\n",
      "you should bet 0.5593131411646177% of you balance\n"
     ]
    }
   ],
   "source": [
    "pos_list = []\n",
    "neg_list = []\n",
    "for ints in roi:\n",
    "    if ints < 0:\n",
    "        neg_list.append(ints)\n",
    "    elif ints >= 0:\n",
    "        pos_list.append(ints)\n",
    "\n",
    "p_win = len(pos_list)/len(roi)\n",
    "p_loss = 1-p_win\n",
    "neg_mean = abs(np.mean(neg_list))\n",
    "pos_mean = np.mean(pos_list)\n",
    "mean = np.mean(roi)\n",
    "\n",
    "bet_percent = (p_win/neg_mean)-(p_loss/pos_mean)\n",
    "\n",
    "print(f\"probability of winning is {p_win}\")\n",
    "print(f\"probability of losing is {p_loss}\")\n",
    "print(f\"mean roi is {mean}\")\n",
    "print(f\"you should bet {bet_percent}% of you balance\")"
   ],
   "metadata": {
    "collapsed": false
   }
  },
  {
   "cell_type": "code",
   "execution_count": 10,
   "outputs": [
    {
     "name": "stdout",
     "output_type": "stream",
     "text": [
      "We are 95% confident that the true mean of roi of each trade is between the interval of (0.006156645476170689, 0.009625976295641391)\n"
     ]
    }
   ],
   "source": [
    "#t interval for mean roi\n",
    "from scipy.stats import t\n",
    "dof = len(df.ROI)-1\n",
    "t_crit = np.abs(t.ppf((1-0.95)/2,dof))\n",
    "se = sem(df.ROI)\n",
    "def t_interval(mean:float,se:float):\n",
    "    lower = (mean-t_crit*se/np.sqrt(dof))\n",
    "    upper = (mean+t_crit*se/np.sqrt(dof))\n",
    "    return (lower,upper)\n",
    "\n",
    "print (f\"We are 95% confident that the true mean of roi of each trade is between the interval of {t_interval(mean,se)}\")"
   ],
   "metadata": {
    "collapsed": false
   }
  },
  {
   "cell_type": "code",
   "execution_count": 15,
   "outputs": [
    {
     "ename": "TypeError",
     "evalue": "'list' object is not callable",
     "output_type": "error",
     "traceback": [
      "\u001B[0;31m---------------------------------------------------------------------------\u001B[0m",
      "\u001B[0;31mTypeError\u001B[0m                                 Traceback (most recent call last)",
      "Cell \u001B[0;32mIn [15], line 2\u001B[0m\n\u001B[1;32m      1\u001B[0m x \u001B[38;5;241m=\u001B[39m \u001B[38;5;241m100\u001B[39m\n\u001B[0;32m----> 2\u001B[0m \u001B[38;5;28mlist\u001B[39m \u001B[38;5;241m=\u001B[39m \u001B[38;5;28;43mlist\u001B[39;49m\u001B[43m(\u001B[49m\u001B[43mdf\u001B[49m\u001B[38;5;241;43m.\u001B[39;49m\u001B[43mROI\u001B[49m\u001B[43m)\u001B[49m\n\u001B[1;32m      3\u001B[0m \u001B[38;5;28;01mfor\u001B[39;00m i \u001B[38;5;129;01min\u001B[39;00m \u001B[38;5;28mlist\u001B[39m:\n\u001B[1;32m      4\u001B[0m     i \u001B[38;5;241m+\u001B[39m\u001B[38;5;241m=\u001B[39m \u001B[38;5;241m1\u001B[39m\n",
      "\u001B[0;31mTypeError\u001B[0m: 'list' object is not callable"
     ]
    }
   ],
   "source": [],
   "metadata": {
    "collapsed": false
   }
  },
  {
   "cell_type": "code",
   "execution_count": null,
   "outputs": [],
   "source": [],
   "metadata": {
    "collapsed": false
   }
  }
 ],
 "metadata": {
  "kernelspec": {
   "display_name": "Python 3",
   "language": "python",
   "name": "python3"
  },
  "language_info": {
   "codemirror_mode": {
    "name": "ipython",
    "version": 2
   },
   "file_extension": ".py",
   "mimetype": "text/x-python",
   "name": "python",
   "nbconvert_exporter": "python",
   "pygments_lexer": "ipython2",
   "version": "2.7.6"
  }
 },
 "nbformat": 4,
 "nbformat_minor": 0
}
