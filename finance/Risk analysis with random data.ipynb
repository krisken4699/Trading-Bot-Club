{
 "cells": [
  {
   "cell_type": "code",
   "execution_count": 1,
   "id": "bcd7b197",
   "metadata": {},
   "outputs": [
    {
     "name": "stdout",
     "output_type": "stream",
     "text": [
      "[5, 6, 3, 7, 4, 4, 3, 6, 7, 4, 7, 3, 7, 7, 3, 5, 3, 4, 4, 5, 3, 5, 6, 5, 6, 6, 3, 4, 4, 7, 6, 7, 5, 6, 3, 3, 6, 6, 4, 4, 6, 4, 4, 7, 7, 7, 7, 5, 3, 5, 7, 4, 5, 5, 3, 4, 4, 4, 3, 7, 3, 6, 7, 4, 5, 5, 4, 6, 5, 7, 4, 6, 4, 5, 7, 4, 7, 4, 7, 7, 6, 5, 6, 3, 3, 4, 4, 7, 4, 3, 5, 5, 4, 4, 5, 3, 5, 3, 3, 7]\n",
      "[7, 9, 7, 9, 6, 9, 9, 9, 8, 5, 5, 7, 7, 5, 8, 8, 6, 6, 6, 5, 5, 7, 8, 9, 8, 5, 9, 8, 6, 8, 9, 6, 7, 6, 6, 7, 6, 5, 9, 7, 5, 9, 9, 7, 9, 9, 9, 9, 9, 7, 8, 8, 8, 8, 5, 5, 5, 7, 8, 6, 9, 6, 9, 8, 6, 9, 5, 6, 8, 7, 8, 8, 9, 9, 5, 8, 5, 8, 6, 9, 5, 8, 5, 7, 6, 8, 7, 9, 7, 5, 8, 6, 9, 6, 6, 9, 8, 7, 7, 5]\n"
     ]
    }
   ],
   "source": [
    "import random\n",
    "import numpy as np\n",
    "import pandas as pd\n",
    "\n",
    "entry_list = []\n",
    "exit_list = []\n",
    "\n",
    "for i in range(0,100):\n",
    "    n = random.randint(3,7)\n",
    "    entry_list.append(n)\n",
    "\n",
    "for i in range(0,100):\n",
    "    n = random.randint(5,9)\n",
    "    exit_list.append(n)\n",
    "\n",
    "print(entry_list)\n",
    "print(exit_list)"
   ]
  },
  {
   "cell_type": "code",
   "execution_count": 2,
   "id": "156a437e",
   "metadata": {},
   "outputs": [],
   "source": [
    "df = pd.DataFrame({\"entry\":entry_list,\"exit\":exit_list})\n",
    "df.to_csv('risk analysis.csv')"
   ]
  },
  {
   "cell_type": "code",
   "execution_count": 3,
   "id": "f9a6b454",
   "metadata": {},
   "outputs": [
    {
     "data": {
      "text/html": [
       "<div>\n",
       "<style scoped>\n",
       "    .dataframe tbody tr th:only-of-type {\n",
       "        vertical-align: middle;\n",
       "    }\n",
       "\n",
       "    .dataframe tbody tr th {\n",
       "        vertical-align: top;\n",
       "    }\n",
       "\n",
       "    .dataframe thead th {\n",
       "        text-align: right;\n",
       "    }\n",
       "</style>\n",
       "<table border=\"1\" class=\"dataframe\">\n",
       "  <thead>\n",
       "    <tr style=\"text-align: right;\">\n",
       "      <th></th>\n",
       "      <th>entry</th>\n",
       "      <th>exit</th>\n",
       "      <th>roi</th>\n",
       "    </tr>\n",
       "  </thead>\n",
       "  <tbody>\n",
       "    <tr>\n",
       "      <th>0</th>\n",
       "      <td>5</td>\n",
       "      <td>7</td>\n",
       "      <td>0.400000</td>\n",
       "    </tr>\n",
       "    <tr>\n",
       "      <th>1</th>\n",
       "      <td>6</td>\n",
       "      <td>9</td>\n",
       "      <td>0.500000</td>\n",
       "    </tr>\n",
       "    <tr>\n",
       "      <th>2</th>\n",
       "      <td>3</td>\n",
       "      <td>7</td>\n",
       "      <td>1.333333</td>\n",
       "    </tr>\n",
       "    <tr>\n",
       "      <th>3</th>\n",
       "      <td>7</td>\n",
       "      <td>9</td>\n",
       "      <td>0.285714</td>\n",
       "    </tr>\n",
       "    <tr>\n",
       "      <th>4</th>\n",
       "      <td>4</td>\n",
       "      <td>6</td>\n",
       "      <td>0.500000</td>\n",
       "    </tr>\n",
       "    <tr>\n",
       "      <th>...</th>\n",
       "      <td>...</td>\n",
       "      <td>...</td>\n",
       "      <td>...</td>\n",
       "    </tr>\n",
       "    <tr>\n",
       "      <th>95</th>\n",
       "      <td>3</td>\n",
       "      <td>9</td>\n",
       "      <td>2.000000</td>\n",
       "    </tr>\n",
       "    <tr>\n",
       "      <th>96</th>\n",
       "      <td>5</td>\n",
       "      <td>8</td>\n",
       "      <td>0.600000</td>\n",
       "    </tr>\n",
       "    <tr>\n",
       "      <th>97</th>\n",
       "      <td>3</td>\n",
       "      <td>7</td>\n",
       "      <td>1.333333</td>\n",
       "    </tr>\n",
       "    <tr>\n",
       "      <th>98</th>\n",
       "      <td>3</td>\n",
       "      <td>7</td>\n",
       "      <td>1.333333</td>\n",
       "    </tr>\n",
       "    <tr>\n",
       "      <th>99</th>\n",
       "      <td>7</td>\n",
       "      <td>5</td>\n",
       "      <td>-0.285714</td>\n",
       "    </tr>\n",
       "  </tbody>\n",
       "</table>\n",
       "<p>100 rows × 3 columns</p>\n",
       "</div>"
      ],
      "text/plain": [
       "    entry  exit       roi\n",
       "0       5     7  0.400000\n",
       "1       6     9  0.500000\n",
       "2       3     7  1.333333\n",
       "3       7     9  0.285714\n",
       "4       4     6  0.500000\n",
       "..    ...   ...       ...\n",
       "95      3     9  2.000000\n",
       "96      5     8  0.600000\n",
       "97      3     7  1.333333\n",
       "98      3     7  1.333333\n",
       "99      7     5 -0.285714\n",
       "\n",
       "[100 rows x 3 columns]"
      ]
     },
     "execution_count": 3,
     "metadata": {},
     "output_type": "execute_result"
    }
   ],
   "source": [
    "ROI = (df['exit']-df['entry'])/df['entry']\n",
    "df = pd.DataFrame({\"entry\":entry_list,\"exit\":exit_list,\"roi\":ROI})\n",
    "df"
   ]
  },
  {
   "cell_type": "code",
   "execution_count": 4,
   "id": "3f454195",
   "metadata": {},
   "outputs": [
    {
     "name": "stdout",
     "output_type": "stream",
     "text": [
      "probability of winning is 0.87\n",
      "probability of losing is 0.13\n",
      "mean roi is 1.5917142857142856\n",
      "you should bet 0.6502993722839208% of you balance\n"
     ]
    }
   ],
   "source": [
    "pos_list = []\n",
    "neg_list = []\n",
    "for ints in df.roi:\n",
    "    if ints < 0:\n",
    "        neg_list.append(ints)\n",
    "    elif ints >= 0:\n",
    "        pos_list.append(ints)\n",
    "\n",
    "p_of_win = len(pos_list)/len(df.roi)\n",
    "p_of_loss = 1-p_of_win\n",
    "roi = np.mean(df.roi)\n",
    "\n",
    "bet_percent = ((roi*p_of_win-p_of_loss)/roi)*100\n",
    "\n",
    "print(f\"probability of winning is {p_of_win}\")\n",
    "print(f\"probability of losing is {p_of_loss}\")\n",
    "print(f\"mean roi is {roi+1}\")\n",
    "print(f\"you should bet {bet_percent}% of you balance\")"
   ]
  },
  {
   "cell_type": "code",
   "execution_count": 7,
   "id": "c58c06e8",
   "metadata": {},
   "outputs": [
    {
     "name": "stdout",
     "output_type": "stream",
     "text": [
      "We are 95% confident that the true mean of roi of each trade is between the interval of (0.47571991093726457, 0.707708660491307)\n"
     ]
    }
   ],
   "source": [
    "#t interval for mean roi\n",
    "from scipy.stats import t\n",
    "dof = len(df.roi)-1\n",
    "t_crit = np.abs(t.ppf((1-0.95)/2,dof))\n",
    "sd = np.std(df.roi)\n",
    "def t_interval(mean:float,std:float):\n",
    "    \"\"\"\n",
    "    gjyfyjfjy\n",
    "    \"\"\"\n",
    "    lower = (mean-t_crit*std/np.sqrt(dof))\n",
    "    upper = (mean+t_crit*std/np.sqrt(dof))\n",
    "    return (lower,upper)\n",
    "\n",
    "print (f\"We are 95% confident that the true mean of roi of each trade is between the interval of {t_interval(roi,sd)}\")"
   ]
  },
  {
   "cell_type": "code",
   "execution_count": 8,
   "id": "4c65688d",
   "metadata": {},
   "outputs": [
    {
     "name": "stdout",
     "output_type": "stream",
     "text": [
      "<function t_interval at 0x7fbd8a413ee0>\n"
     ]
    }
   ],
   "source": [
    "print(t_interval)"
   ]
  },
  {
   "cell_type": "code",
   "execution_count": null,
   "id": "6697e867",
   "metadata": {},
   "outputs": [],
   "source": []
  }
 ],
 "metadata": {
  "kernelspec": {
   "display_name": "Python 3 (ipykernel)",
   "language": "python",
   "name": "python3"
  },
  "language_info": {
   "codemirror_mode": {
    "name": "ipython",
    "version": 3
   },
   "file_extension": ".py",
   "mimetype": "text/x-python",
   "name": "python",
   "nbconvert_exporter": "python",
   "pygments_lexer": "ipython3",
   "version": "3.9.13"
  }
 },
 "nbformat": 4,
 "nbformat_minor": 5
}
